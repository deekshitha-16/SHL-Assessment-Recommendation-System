
SHL Assessment Recommendation System
Problem Statement -
Hiring managers often struggle to find the right assessments for the roles that they are hiring for. The current system relies on keyword searches and filters, making the process time-consuming and inefficient.SHL Assessment Recommendation System is an intelligent recommendation system that simplifies this process. Given a natural language query or a job description text or URL, this application returns a list of relevant SHL assessments. Data sources that I worked with - https://www.shl.com/solutions/products/product-catalog/

Web Scraping
Tried Web Scraping the product catalog using selenium but couldn't scrape anything because of heavy usage of react and client-side rendering


from selenium import webdriver
from selenium.webdriver.common.by import By
from selenium.webdriver.chrome.service import Service
from selenium.webdriver.chrome.options import Options
import pandas as pd
import time

options = Options()

options.add_argument("--disable-gpu")
options.add_argument("--start-maximized")

service = Service("/opt/homebrew/bin/chromedriver")
driver = webdriver.Chrome(service=service, options=options)

driver.get("https://www.shl.com/solutions/products/product-catalog/")
time.sleep(5)

# Scroll to load all content
last_height = driver.execute_script("return document.body.scrollHeight")
while True:
    driver.execute_script("window.scrollTo(0, document.body.scrollHeight);")
    time.sleep(2)
    new_height = driver.execute_script("return document.body.scrollHeight")
    if new_height == last_height:
        break
    last_height = new_height

h3s = driver.find_elements(By.TAG_NAME, "h3")
print("Found", len(h3s), "h3 elements")
for h in h3s:
    print(h.text)

cards = driver.find_elements(By.CLASS_NAME, "product-card")
print(f"Found {len(cards)} product cards")

data = []
for card in cards:
    try:
        name = card.find_element(By.TAG_NAME, "h3").text
        url = card.find_element(By.TAG_NAME, "a").get_attribute("href")
        desc = card.find_element(By.TAG_NAME, "p").text
        data.append({
            "name": name,
            "url": url,
            "description": desc
        })
    except:
        continue

driver.quit()


     
Found 1 h3 elements

Found 0 product cards
Using a mock dataset instead
Using a mock dataset to focus on building the Recommendation System rather than focusing on web scraping

Feaures of Mock Dataset -
Assessment Name
URL
Duration (in mins)
Remote Testing Support (Yes/No)
Adaptive/IRT (Yes/No)
Test Type
Skills
Description

import pandas as pd
from sentence_transformers import SentenceTransformer,util
import torch
import matplotlib.pyplot as plt
import numpy as np


     

catalog_df = pd.read_csv("SHL_catalog.csv")
catalog_df


     
Assessment Name	URL	Duration	Remote Testing Support	Adaptive/IRT	Test Type	Skills	Description
0	Java Developer Assessment #1	https://shl.com/assessment/1	40	Yes	No	Coding	Java	The 'Java Developer Assessment #1' is a Coding...
1	Full Stack Developer Test #2	https://shl.com/assessment/2	50	Yes	Yes	Coding	JavaScript	Python
2	Data Analyst Screening #3	https://shl.com/assessment/3	45	No	No	Cognitive	SQL	Python
3	Python & SQL Challenge #4	https://shl.com/assessment/4	60	Yes	Yes	Coding	Python	SQL
4	Cognitive Aptitude Test #5	https://shl.com/assessment/5	30	Yes	No	Cognitive	Problem Solving	The 'Cognitive Aptitude Test #5' is a Cognitiv...
5	Personality Insights Assessment #6	https://shl.com/assessment/6	35	Yes	No	Personality	Teamwork	Communication
6	Frontend Developer Skills Test #7	https://shl.com/assessment/7	45	No	Yes	Coding	JavaScript	Communication
7	Business Communication Evaluation #8	https://shl.com/assessment/8	25	Yes	Yes	Communication	Communication	Teamwork
8	Logical Reasoning Assessment #9	https://shl.com/assessment/9	20	Yes	No	Cognitive	Problem Solving	The 'Logical Reasoning Assessment #9' is a Cog...
9	Coding Challenge for Developers #10	https://shl.com/assessment/10	60	No	Yes	Coding	Python	Java
10	JavaScript Screening Test #11	https://shl.com/assessment/11	30	Yes	Yes	Coding	JavaScript	The 'JavaScript Screening Test #11' is a Codin...
11	Problem Solving & Coding Challenge #12	https://shl.com/assessment/12	55	No	No	Coding	Java	Problem Solving
12	Technical Aptitude Test #13	https://shl.com/assessment/13	35	Yes	No	Aptitude	Logic	Problem Solving
13	Developer Collaboration Skills Test #14	https://shl.com/assessment/14	40	Yes	Yes	Communication	Teamwork	Communication
14	Personality Fit Analysis #15	https://shl.com/assessment/15	30	Yes	No	Personality	Personality	Teamwork
15	Business Analyst Aptitude #16	https://shl.com/assessment/16	45	No	Yes	Cognitive	SQL	Problem Solving
16	Python Backend Developer Assessment #17	https://shl.com/assessment/17	60	Yes	Yes	Coding	Python	Problem Solving
17	SQL & Reporting Challenge #18	https://shl.com/assessment/18	40	Yes	No	Coding	SQL	Python
18	Communication Skills Test #19	https://shl.com/assessment/19	30	Yes	Yes	Communication	Communication	The 'Communication Skills Test #19' is a Commu...
19	Mid-Level Developer Evaluation #20	https://shl.com/assessment/20	55	Yes	Yes	Coding	Python	JavaScript
20	Senior Engineer Coding Test #21	https://shl.com/assessment/21	60	Yes	Yes	Coding	Java	Python
21	Quick Logic Assessment #22	https://shl.com/assessment/22	20	Yes	No	Cognitive	Problem Solving	The 'Quick Logic Assessment #22' is a Cognitiv...
22	Entry-Level Developer Screening #23	https://shl.com/assessment/23	30	Yes	No	Coding	Python	JavaScript
23	Communication & Team Fit #24	https://shl.com/assessment/24	25	Yes	Yes	Communication	Teamwork	Communication
24	Developer Personality Assessment #25	https://shl.com/assessment/25	30	No	No	Personality	Personality	The 'Developer Personality Assessment #25' is ...
25	SQL Mastery Test #26	https://shl.com/assessment/26	40	Yes	Yes	Coding	SQL	The 'SQL Mastery Test #26' is a Coding test fo...
26	Quick Java Screening #27	https://shl.com/assessment/27	30	Yes	No	Coding	Java	The 'Quick Java Screening #27' is a Coding tes...
27	Collaboration Skills Evaluation #28	https://shl.com/assessment/28	35	No	Yes	Communication	Teamwork	The 'Collaboration Skills Evaluation #28' is a...
28	Backend Developer Challenge #29	https://shl.com/assessment/29	60	Yes	Yes	Coding	Python	SQL
29	Critical Thinking & Aptitude Test #30	https://shl.com/assessment/30	40	Yes	No	Cognitive	Problem Solving	The 'Critical Thinking & Aptitude Test #30' is...
30	Personality & Communication Fit #31	https://shl.com/assessment/31	30	Yes	No	Personality	Communication	The 'Personality & Communication Fit #31' is a...
31	JavaScript Developer Test #32	https://shl.com/assessment/32	50	No	Yes	Coding	JavaScript	The 'JavaScript Developer Test #32' is a Codin...
32	Data Interpretation Test #33	https://shl.com/assessment/33	45	Yes	Yes	Cognitive	Data Analysis	SQL
33	Junior Developer Aptitude #34	https://shl.com/assessment/34	35	Yes	No	Coding	Python	JavaScript
34	Communication & Presentation #35	https://shl.com/assessment/35	30	Yes	Yes	Communication	Communication	Presentation
35	Cognitive Quick Check #36	https://shl.com/assessment/36	20	Yes	No	Cognitive	Logic	The 'Cognitive Quick Check #36' is a Cognitive...
36	Code Debugging Assessment #37	https://shl.com/assessment/37	45	No	Yes	Coding	JavaScript	Python
37	SQL Reporting Task #38	https://shl.com/assessment/38	30	Yes	No	Coding	SQL	The 'SQL Reporting Task #38' is a Coding test ...
38	Advanced Coding Simulation #39	https://shl.com/assessment/39	60	Yes	Yes	Coding	Java	Python
39	Personality Profiler #40	https://shl.com/assessment/40	30	Yes	Yes	Personality	Personality	The 'Personality Profiler #40' is a Personalit...
40	Cross-functional Assessment #41	https://shl.com/assessment/41	50	Yes	No	Cognitive	SQL	Python
41	Entry-level Analyst Test #42	https://shl.com/assessment/42	30	Yes	No	Cognitive	Problem Solving	SQL
42	Interpersonal Skills Assessment #43	https://shl.com/assessment/43	30	Yes	No	Communication	Teamwork	Communication
43	Python Code Review Challenge #44	https://shl.com/assessment/44	60	Yes	Yes	Coding	Python	The 'Python Code Review Challenge #44' is a Co...
44	Logical Decision Making Test #45	https://shl.com/assessment/45	25	Yes	No	Cognitive	Logic	The 'Logical Decision Making Test #45' is a Co...
45	Advanced Personality & Leadership #46	https://shl.com/assessment/46	45	Yes	Yes	Personality	Leadership	Personality
46	Java Coding Drill #47	https://shl.com/assessment/47	40	Yes	No	Coding	Java	The 'Java Coding Drill #47' is a Coding test f...
47	Behavioral Traits Check #48	https://shl.com/assessment/48	30	Yes	No	Personality	Behavior	The 'Behavioral Traits Check #48' is a Persona...
48	Cognitive & Technical Combo #49	https://shl.com/assessment/49	55	Yes	Yes	Cognitive	JavaScript	Logic
49	Comprehensive Developer Test #50	https://shl.com/assessment/50	60	Yes	Yes	Coding	Python	JavaScript

catalog_df.info()


     
<class 'pandas.core.frame.DataFrame'>
RangeIndex: 50 entries, 0 to 49
Data columns (total 8 columns):
 #   Column                  Non-Null Count  Dtype 
---  ------                  --------------  ----- 
 0   Assessment Name         50 non-null     object
 1   URL                     50 non-null     object
 2   Duration                50 non-null     int64 
 3   Remote Testing Support  50 non-null     object
 4   Adaptive/IRT            50 non-null     object
 5   Test Type               50 non-null     object
 6   Skills                  50 non-null     object
 7   Description             50 non-null     object
dtypes: int64(1), object(7)
memory usage: 3.3+ KB

def combine_row(row):
    parts = [
        str(row["Assessment Name"]),
        str(row["Duration"]),
        str(row["Remote Testing Support"]),
        str(row["Adaptive/IRT"]),
        str(row["Test Type"]),
        str(row["Skills"]),
        str(row["Description"]),
    ]
    return ' '.join(parts)


     
Combining all features into one single string to convert into word embeddings

catalog_df['combined'] = catalog_df.apply(combine_row,axis=1)


     

catalog_df


     
Assessment Name	URL	Duration	Remote Testing Support	Adaptive/IRT	Test Type	Skills	Description	combined
0	Java Developer Assessment #1	https://shl.com/assessment/1	40	Yes	No	Coding	Java	The 'Java Developer Assessment #1' is a Coding...	Java Developer Assessment #1 40 Yes No Coding ...
1	Full Stack Developer Test #2	https://shl.com/assessment/2	50	Yes	Yes	Coding	JavaScript	Python	Full Stack Developer Test #2 50 Yes Yes Coding...
2	Data Analyst Screening #3	https://shl.com/assessment/3	45	No	No	Cognitive	SQL	Python	Data Analyst Screening #3 45 No No Cognitive S...
3	Python & SQL Challenge #4	https://shl.com/assessment/4	60	Yes	Yes	Coding	Python	SQL	Python & SQL Challenge #4 60 Yes Yes Coding Py...
4	Cognitive Aptitude Test #5	https://shl.com/assessment/5	30	Yes	No	Cognitive	Problem Solving	The 'Cognitive Aptitude Test #5' is a Cognitiv...	Cognitive Aptitude Test #5 30 Yes No Cognitive...
5	Personality Insights Assessment #6	https://shl.com/assessment/6	35	Yes	No	Personality	Teamwork	Communication	Personality Insights Assessment #6 35 Yes No P...
6	Frontend Developer Skills Test #7	https://shl.com/assessment/7	45	No	Yes	Coding	JavaScript	Communication	Frontend Developer Skills Test #7 45 No Yes Co...
7	Business Communication Evaluation #8	https://shl.com/assessment/8	25	Yes	Yes	Communication	Communication	Teamwork	Business Communication Evaluation #8 25 Yes Ye...
8	Logical Reasoning Assessment #9	https://shl.com/assessment/9	20	Yes	No	Cognitive	Problem Solving	The 'Logical Reasoning Assessment #9' is a Cog...	Logical Reasoning Assessment #9 20 Yes No Cogn...
9	Coding Challenge for Developers #10	https://shl.com/assessment/10	60	No	Yes	Coding	Python	Java	Coding Challenge for Developers #10 60 No Yes ...
10	JavaScript Screening Test #11	https://shl.com/assessment/11	30	Yes	Yes	Coding	JavaScript	The 'JavaScript Screening Test #11' is a Codin...	JavaScript Screening Test #11 30 Yes Yes Codin...
11	Problem Solving & Coding Challenge #12	https://shl.com/assessment/12	55	No	No	Coding	Java	Problem Solving	Problem Solving & Coding Challenge #12 55 No N...
12	Technical Aptitude Test #13	https://shl.com/assessment/13	35	Yes	No	Aptitude	Logic	Problem Solving	Technical Aptitude Test #13 35 Yes No Aptitude...
13	Developer Collaboration Skills Test #14	https://shl.com/assessment/14	40	Yes	Yes	Communication	Teamwork	Communication	Developer Collaboration Skills Test #14 40 Yes...
14	Personality Fit Analysis #15	https://shl.com/assessment/15	30	Yes	No	Personality	Personality	Teamwork	Personality Fit Analysis #15 30 Yes No Persona...
15	Business Analyst Aptitude #16	https://shl.com/assessment/16	45	No	Yes	Cognitive	SQL	Problem Solving	Business Analyst Aptitude #16 45 No Yes Cognit...
16	Python Backend Developer Assessment #17	https://shl.com/assessment/17	60	Yes	Yes	Coding	Python	Problem Solving	Python Backend Developer Assessment #17 60 Yes...
17	SQL & Reporting Challenge #18	https://shl.com/assessment/18	40	Yes	No	Coding	SQL	Python	SQL & Reporting Challenge #18 40 Yes No Coding...
18	Communication Skills Test #19	https://shl.com/assessment/19	30	Yes	Yes	Communication	Communication	The 'Communication Skills Test #19' is a Commu...	Communication Skills Test #19 30 Yes Yes Commu...
19	Mid-Level Developer Evaluation #20	https://shl.com/assessment/20	55	Yes	Yes	Coding	Python	JavaScript	Mid-Level Developer Evaluation #20 55 Yes Yes ...
20	Senior Engineer Coding Test #21	https://shl.com/assessment/21	60	Yes	Yes	Coding	Java	Python	Senior Engineer Coding Test #21 60 Yes Yes Cod...
21	Quick Logic Assessment #22	https://shl.com/assessment/22	20	Yes	No	Cognitive	Problem Solving	The 'Quick Logic Assessment #22' is a Cognitiv...	Quick Logic Assessment #22 20 Yes No Cognitive...
22	Entry-Level Developer Screening #23	https://shl.com/assessment/23	30	Yes	No	Coding	Python	JavaScript	Entry-Level Developer Screening #23 30 Yes No ...
23	Communication & Team Fit #24	https://shl.com/assessment/24	25	Yes	Yes	Communication	Teamwork	Communication	Communication & Team Fit #24 25 Yes Yes Commun...
24	Developer Personality Assessment #25	https://shl.com/assessment/25	30	No	No	Personality	Personality	The 'Developer Personality Assessment #25' is ...	Developer Personality Assessment #25 30 No No ...
25	SQL Mastery Test #26	https://shl.com/assessment/26	40	Yes	Yes	Coding	SQL	The 'SQL Mastery Test #26' is a Coding test fo...	SQL Mastery Test #26 40 Yes Yes Coding SQL The...
26	Quick Java Screening #27	https://shl.com/assessment/27	30	Yes	No	Coding	Java	The 'Quick Java Screening #27' is a Coding tes...	Quick Java Screening #27 30 Yes No Coding Java...
27	Collaboration Skills Evaluation #28	https://shl.com/assessment/28	35	No	Yes	Communication	Teamwork	The 'Collaboration Skills Evaluation #28' is a...	Collaboration Skills Evaluation #28 35 No Yes ...
28	Backend Developer Challenge #29	https://shl.com/assessment/29	60	Yes	Yes	Coding	Python	SQL	Backend Developer Challenge #29 60 Yes Yes Cod...
29	Critical Thinking & Aptitude Test #30	https://shl.com/assessment/30	40	Yes	No	Cognitive	Problem Solving	The 'Critical Thinking & Aptitude Test #30' is...	Critical Thinking & Aptitude Test #30 40 Yes N...
30	Personality & Communication Fit #31	https://shl.com/assessment/31	30	Yes	No	Personality	Communication	The 'Personality & Communication Fit #31' is a...	Personality & Communication Fit #31 30 Yes No ...
31	JavaScript Developer Test #32	https://shl.com/assessment/32	50	No	Yes	Coding	JavaScript	The 'JavaScript Developer Test #32' is a Codin...	JavaScript Developer Test #32 50 No Yes Coding...
32	Data Interpretation Test #33	https://shl.com/assessment/33	45	Yes	Yes	Cognitive	Data Analysis	SQL	Data Interpretation Test #33 45 Yes Yes Cognit...
33	Junior Developer Aptitude #34	https://shl.com/assessment/34	35	Yes	No	Coding	Python	JavaScript	Junior Developer Aptitude #34 35 Yes No Coding...
34	Communication & Presentation #35	https://shl.com/assessment/35	30	Yes	Yes	Communication	Communication	Presentation	Communication & Presentation #35 30 Yes Yes Co...
35	Cognitive Quick Check #36	https://shl.com/assessment/36	20	Yes	No	Cognitive	Logic	The 'Cognitive Quick Check #36' is a Cognitive...	Cognitive Quick Check #36 20 Yes No Cognitive ...
36	Code Debugging Assessment #37	https://shl.com/assessment/37	45	No	Yes	Coding	JavaScript	Python	Code Debugging Assessment #37 45 No Yes Coding...
37	SQL Reporting Task #38	https://shl.com/assessment/38	30	Yes	No	Coding	SQL	The 'SQL Reporting Task #38' is a Coding test ...	SQL Reporting Task #38 30 Yes No Coding SQL Th...
38	Advanced Coding Simulation #39	https://shl.com/assessment/39	60	Yes	Yes	Coding	Java	Python	Advanced Coding Simulation #39 60 Yes Yes Codi...
39	Personality Profiler #40	https://shl.com/assessment/40	30	Yes	Yes	Personality	Personality	The 'Personality Profiler #40' is a Personalit...	Personality Profiler #40 30 Yes Yes Personalit...
40	Cross-functional Assessment #41	https://shl.com/assessment/41	50	Yes	No	Cognitive	SQL	Python	Cross-functional Assessment #41 50 Yes No Cogn...
41	Entry-level Analyst Test #42	https://shl.com/assessment/42	30	Yes	No	Cognitive	Problem Solving	SQL	Entry-level Analyst Test #42 30 Yes No Cogniti...
42	Interpersonal Skills Assessment #43	https://shl.com/assessment/43	30	Yes	No	Communication	Teamwork	Communication	Interpersonal Skills Assessment #43 30 Yes No ...
43	Python Code Review Challenge #44	https://shl.com/assessment/44	60	Yes	Yes	Coding	Python	The 'Python Code Review Challenge #44' is a Co...	Python Code Review Challenge #44 60 Yes Yes Co...
44	Logical Decision Making Test #45	https://shl.com/assessment/45	25	Yes	No	Cognitive	Logic	The 'Logical Decision Making Test #45' is a Co...	Logical Decision Making Test #45 25 Yes No Cog...
45	Advanced Personality & Leadership #46	https://shl.com/assessment/46	45	Yes	Yes	Personality	Leadership	Personality	Advanced Personality & Leadership #46 45 Yes Y...
46	Java Coding Drill #47	https://shl.com/assessment/47	40	Yes	No	Coding	Java	The 'Java Coding Drill #47' is a Coding test f...	Java Coding Drill #47 40 Yes No Coding Java Th...
47	Behavioral Traits Check #48	https://shl.com/assessment/48	30	Yes	No	Personality	Behavior	The 'Behavioral Traits Check #48' is a Persona...	Behavioral Traits Check #48 30 Yes No Personal...
48	Cognitive & Technical Combo #49	https://shl.com/assessment/49	55	Yes	Yes	Cognitive	JavaScript	Logic	Cognitive & Technical Combo #49 55 Yes Yes Cog...
49	Comprehensive Developer Test #50	https://shl.com/assessment/50	60	Yes	Yes	Coding	Python	JavaScript	Comprehensive Developer Test #50 60 Yes Yes Co...
Word Embeddings
Creating word embeddings using Sentence BERT instead of simple TF-IDF Vectorizer because it also understands context of words rather than simple word-matching. TF-IDF only focuses on frequency of words

model = SentenceTransformer('all-MiniLM-L6-v2')


     

#converting each row into a vector/word embedding
corpus = catalog_df['combined'].tolist()
corpus_embeddings = model.encode(corpus,convert_to_tensor=True)


     

corpus_embeddings


     
tensor([[-4.1132e-02,  3.3712e-02, -1.5192e-02,  ...,  6.8478e-02,
          1.1157e-02, -3.8792e-02],
        [-8.3015e-02, -5.8202e-02,  3.8498e-02,  ...,  1.4818e-01,
          8.3665e-02, -4.9551e-02],
        [ 2.8609e-02,  1.4035e-02, -4.8932e-02,  ...,  6.8456e-03,
          6.1058e-02, -2.2603e-05],
        ...,
        [ 5.7849e-02,  1.8829e-02, -1.3150e-02,  ...,  4.9492e-02,
         -7.7539e-03, -8.2473e-02],
        [ 3.9873e-02,  2.4800e-03, -2.5676e-02,  ...,  3.8942e-02,
          8.5604e-03, -4.1729e-02],
        [-1.0276e-01, -2.3152e-02,  1.3055e-02,  ...,  1.6705e-01,
          8.0500e-02, -2.7817e-02]], device='mps:0')
NLP Query
Taking NLP query as an input from the user and converting it into word embedding as well then finding cosine similarities between corpus embeddings and query embedding

Calculating Cosine Similarities

def print_assessments(user_query):
    model = SentenceTransformer('all-MiniLM-L6-v2')
    query_embedding = model.encode(user_query, convert_to_tensor = True)
    cosine_scores = util.cos_sim(query_embedding,corpus_embeddings)[0]
    top_k = min(5,len(corpus))
    top_results = torch.topk(cosine_scores,k=top_k)
    print('Top 5 Matching Assessments:\n')
    results = []
    for score, idx in zip(top_results[0], top_results[1]):
        idx = idx.item()
        result = {
            "Assessment Name": catalog_df.iloc[idx]['Assessment Name'],
            "Skills": catalog_df.iloc[idx]['Skills'],
            "Test Type": catalog_df.iloc[idx]['Test Type'],
            "Description": catalog_df.iloc[idx]['Description'],
            "Remote Testing Support": catalog_df.iloc[idx]['Remote Testing Support'],
            "Adaptive/IRT": catalog_df.iloc[idx]['Adaptive/IRT'],
            "Duration": catalog_df.iloc[idx]['Duration'],
            "URL": catalog_df.iloc[idx]['URL'],
            "Score": round(score.item(), 4)
        }

        print(f"Assessment: {result['Assessment Name']}")
        print(f"Skills: {result['Skills']}")
        print(f"Test Type: {result['Test Type']}")
        print(f"Description: {result['Description']}")
        print(f"Remote Testing Support: {result['Remote Testing Support']}")
        print(f"Adaptive/IRT: {result['Adaptive/IRT']}")
        print(f"Duration: {result['Duration']} mins")
        print(f"URL: {result['URL']}")
        print(f"Score: {result['Score']}")
        print("-" * 50)
        
        results.append(result)
    return results


     

user_query = input("Enter your query:")
print("\n")
results = print_assessments(user_query)


     

Top 5 Matching Assessments:

Assessment: Python & SQL Challenge #4
Skills: Python
Test Type: Coding
Description: SQL
Remote Testing Support: Yes
Adaptive/IRT: Yes
Duration: 60 mins
URL: https://shl.com/assessment/4
Score: 0.7926
--------------------------------------------------
Assessment: Backend Developer Challenge #29
Skills: Python
Test Type: Coding
Description: SQL
Remote Testing Support: Yes
Adaptive/IRT: Yes
Duration: 60 mins
URL: https://shl.com/assessment/29
Score: 0.7855
--------------------------------------------------
Assessment: SQL & Reporting Challenge #18
Skills: SQL
Test Type: Coding
Description: Python
Remote Testing Support: Yes
Adaptive/IRT: No
Duration: 40 mins
URL: https://shl.com/assessment/18
Score: 0.7318
--------------------------------------------------
Assessment: Data Analyst Screening #3
Skills: SQL
Test Type: Cognitive
Description: Python
Remote Testing Support: No
Adaptive/IRT: No
Duration: 45 mins
URL: https://shl.com/assessment/3
Score: 0.6229
--------------------------------------------------
Assessment: Senior Engineer Coding Test #21
Skills: Java
Test Type: Coding
Description: Python
Remote Testing Support: Yes
Adaptive/IRT: Yes
Duration: 60 mins
URL: https://shl.com/assessment/21
Score: 0.5854
--------------------------------------------------

user_query2 = input("Enter your query:")
print("\n")
result2 = print_assessments(user_query2)


     

Top 5 Matching Assessments:

Assessment: Cognitive Aptitude Test #5
Skills: Problem Solving
Test Type: Cognitive
Description: The 'Cognitive Aptitude Test #5' is a Cognitive test focused on Problem Solving. Duration is 30 mins. It supports remote testing: Yes and adaptive format: No.
Remote Testing Support: Yes
Adaptive/IRT: No
Duration: 30 mins
URL: https://shl.com/assessment/5
Score: 0.5845
--------------------------------------------------
Assessment: Critical Thinking & Aptitude Test #30
Skills: Problem Solving
Test Type: Cognitive
Description: The 'Critical Thinking & Aptitude Test #30' is a Cognitive test focused on Problem Solving. Duration is 40 mins. It supports remote testing: Yes and adaptive format: No.
Remote Testing Support: Yes
Adaptive/IRT: No
Duration: 40 mins
URL: https://shl.com/assessment/30
Score: 0.5815
--------------------------------------------------
Assessment: Developer Personality Assessment #25
Skills: Personality
Test Type: Personality
Description: The 'Developer Personality Assessment #25' is a Personality test focused on Personality. Duration is 30 mins. It supports remote testing: No and adaptive format: No.
Remote Testing Support: No
Adaptive/IRT: No
Duration: 30 mins
URL: https://shl.com/assessment/25
Score: 0.5472
--------------------------------------------------
Assessment: Quick Logic Assessment #22
Skills: Problem Solving
Test Type: Cognitive
Description: The 'Quick Logic Assessment #22' is a Cognitive test focused on Problem Solving. Duration is 20 mins. It supports remote testing: Yes and adaptive format: No.
Remote Testing Support: Yes
Adaptive/IRT: No
Duration: 20 mins
URL: https://shl.com/assessment/22
Score: 0.5407
--------------------------------------------------
Assessment: Behavioral Traits Check #48
Skills: Behavior
Test Type: Personality
Description: The 'Behavioral Traits Check #48' is a Personality test focused on Behavior. Duration is 30 mins. It supports remote testing: Yes and adaptive format: No.
Remote Testing Support: Yes
Adaptive/IRT: No
Duration: 30 mins
URL: https://shl.com/assessment/48
Score: 0.5407
--------------------------------------------------
Metrics to compute Accuracy
Mean recall @K - This metric measures how many of the relevant assessments were retrieved in the top K recommendations, averaged across all test queries.
Mean Average Precision @K (MAP@K) - MAP@K evaluates both the relevance and ranking order of retrieved assessments by calculating Precision@k at each relevant result and averaging it over all queries.

def compute_metrics(benchmark_queries,k=5):
    recall_scores = []
    average_precisions = []

    for entry in benchmark_queries:
        query = entry["query"]
        relevant_items = entry["relevant"]

        results = find_assessments(query)
        topk = [res["Assessment Name"] for res in results[:k]]

        #recall@k
        count = 0
        for item in topk:
            if item in relevant_items:
                count+=1
        recall_score = count/len(relevant_items)
        recall_scores.append(recall_score)

        #map@k
        ap = 0.0
        relevant_count = 0
        for i,res in enumerate(topk):
            if res in relevant_items:
                relevant_count+=1
                precision_at_k = relevant_count/(i+1)
                ap += precision_at_k
        ap = ap/min(k,len(relevant_items))
        average_precisions.append(ap)
        
    recall = sum(recall_scores)/len(recall_scores)
    map_ = sum(average_precisions)/len(average_precisions)
    
    print(f"Recall@{k}: {recall:.4f}")
    print(f"MAP@{k}: {map_:.4f}")


     

def find_assessments(user_query,k=5):
    model = SentenceTransformer('all-MiniLM-L6-v2')
    query_embedding = model.encode(user_query, convert_to_tensor = True)
    cosine_scores = util.cos_sim(query_embedding,corpus_embeddings)[0]
    top_k = min(k,len(corpus))
    top_results = torch.topk(cosine_scores,k=top_k)
    results = []
    for score, idx in zip(top_results[0], top_results[1]):
        idx = idx.item()
        result = {
            "Assessment Name": catalog_df.iloc[idx]['Assessment Name'],
            "Skills": catalog_df.iloc[idx]['Skills'],
            "Test Type": catalog_df.iloc[idx]['Test Type'],
            "Description": catalog_df.iloc[idx]['Description'],
            "Remote Testing Support": catalog_df.iloc[idx]['Remote Testing Support'],
            "Adaptive/IRT": catalog_df.iloc[idx]['Adaptive/IRT'],
            "Duration": catalog_df.iloc[idx]['Duration'],
            "URL": catalog_df.iloc[idx]['URL'],
            "Score": round(score.item(), 4)
        }
        results.append(result)
    return results


     

benchmark_queries = [
    {
        "query": "I am hiring for Java developers who can also collaborate effectively with my business teams. Looking for an assessment that can be completed in 40 minutes.",
        "relevant": ["Java Developer Assessment #1","Quick Java Screening #27","Java Coding Drill #47"]
    },
    {
        "query": "Suggest an assessment for a fresher data analyst that includes Python and SQL skills in under 50 minutes.",
        "relevant": ["Data Analyst Screening #3","SQL & Reporting Challenge #18","Cross-functional Assessment #41"]
    },
    {
        "query": "Looking for remote-enabled JavaScript technical assessment. Needs to be adaptive.",
        "relevant": ["JavaScript Screening Test #11"]
    },
    {
        "query": "Want to assess communication and teamwork skills in under 30 minutes.",
        "relevant": ["Communication Skills Test #19","Business Communication Evaluation #8","Communication & Team Fit #24","Interpersonal Skills Assessment #43"]
    },
]


     

compute_metrics(benchmark_queries,k=5)


     
Recall@5: 0.8542
MAP@5: 0.7181
When we keep K as 5 and find Recall@5 and MAP@5 the results are :-
Recall = 0.8542 and MAP = 0.7181. These results are when we use ONLY NLP TECHNIQUES

As we increase the value of K, how does Recall and Map get affected?

def compute_metrics_at_ks(benchmark_queries, ks=[1, 3, 5, 10]):
    recalls = []
    maps = []

    for k in ks:
        recall_scores = []
        average_precisions = []

        for entry in benchmark_queries:
            relevant_items = entry["relevant"]
            results = find_assessments(entry["query"])
            topk = [res["Assessment Name"] for res in results[:k]]

            # Recall@K
            matched = sum(1 for item in topk if item in relevant_items)
            recall = matched / len(relevant_items)
            recall_scores.append(recall)

            # MAP@K
            ap = 0.0
            relevant_count = 0
            for i, res in enumerate(topk):
                if res in relevant_items:
                    relevant_count += 1
                    ap += relevant_count / (i + 1)
            ap = ap / min(k, len(relevant_items))
            average_precisions.append(ap)

        recalls.append(sum(recall_scores) / len(recall_scores))
        maps.append(sum(average_precisions) / len(average_precisions))

    return ks, recalls, maps


     

ks, recalls, maps = compute_metrics_at_ks(benchmark_queries, ks=[1, 2, 3, 4, 5])

plt.figure(figsize=(10, 5))
plt.plot(ks, recalls, label="Recall@K", marker='o')
plt.plot(ks, maps, label="MAP@K", marker='s')
plt.title("Ranking Evaluation Metrics vs K")
plt.xlabel("K")
plt.ylabel("Score")
plt.ylim(0, 1.05)
plt.grid(True)
plt.legend()
plt.show()


     

Extracting Job Description text from URL

import requests
from bs4 import BeautifulSoup


     

def extract_text_from_url(url):
    try:
        response = requests.get(url,headers={'User-Agent':"Mozilla/5.0"})
        soup = BeautifulSoup(response.text,'html.parser')
        return ' '.join(soup.get_text().split())
    except Exception as e:
        return f"Error:{e}"


     

extracted_text = extract_text_from_url("https://www.linkedin.com/jobs/view/research-engineer-ai-at-shl-4194768899/?originalSubdomain=in")
print(extracted_text)


     
SHL hiring Research Engineer, AI in Gurgaon, Haryana, India | LinkedIn Skip to main content LinkedIn Research Engineer, AI in Mumbai Expand search This button displays the currently selected search type. When expanded it provides a list of search options that will switch the search inputs to match the current selection. Jobs People Learning Clear text Clear text Clear text Clear text Clear text Join now Sign in Research Engineer, AI SHL Gurgaon, Haryana, India Apply Join or sign in to find your next job Join to apply for the Research Engineer, AI role at SHL Not you? Remove photo First name Last name Email Password (6+ characters) By clicking Agree & Join, you agree to the LinkedIn User Agreement, Privacy Policy and Cookie Policy. Continue Agree & Join or You may also apply directly on company website. Security verification Already on LinkedIn? Sign in Research Engineer, AI SHL Gurgaon, Haryana, India 1 week ago Over 200 applicants See who SHL has hired for this role Apply Join or sign in to find your next job Join to apply for the Research Engineer, AI role at SHL Not you? Remove photo First name Last name Email Password (6+ characters) By clicking Agree & Join, you agree to the LinkedIn User Agreement, Privacy Policy and Cookie Policy. Continue Agree & Join or You may also apply directly on company website. Security verification Already on LinkedIn? Sign in Save Report this job Job Description Join a community that is shaping the future of work! SHL, People Science. People Answers. Are you an AI enthusiastwith visionary thinking to conceptualize AI-based products? Are you looking to apply these skills in an environment where teamwork and collaboration are key to developing our digital product experiences? We are seeking a Research Engineer to join our team to deliver robust AI/ML models. You will closely work with the product team to spot opportunities to use AI in the current product stack and influence the product roadmap by incorporating AI-led features/products.An excellent benefits package is offered in a culture where career development, with ongoing manager guidance, collaboration, flexibility, diversity, and inclusivity are all intrinsic to our culture. There is a huge investment in SHL currently so there’s no better time to become a part of something transformational.What You Will Be Doing Develop and experiment with machine learning models like NLP, computer vision etc. Prototype and fine-tune generative AI models for text, image, speech, and video generation. Implement emerging LLM technologies and monitoring tools. Manage the entire AI/ML lifecycle from research to deployment and maintenance. Optimize models for scalability, efficiency, and performance. Collaborate with ML engineers for solution delivery and propose AI-driven enhancements. Contribute to research, documentation, and publications with AI/ML advancements. EssentialWhat we are looking for from you: Relevant experience in AI/ML - NLP, speech processing, and computer vision. Proficiency in Python and ML frameworks such as TensorFlow, PyTorch, & OpenAI APIs. Good knowledge of ML theory deep learning, and statistical modeling. Desirable Familiarity with Generative AI (LLMs & RAG). Experience in prototyping and deploying AI. Agile and proactive thinking. Get In TouchFind out how this one-off opportunity can help you to achieve your career goals by making an application to our knowledgeable and friendly Talent Acquisition team. Choose a new path with SHL. #CareersAtSHL #SHLHiringTalent #AIJobs #ResearchJobs #MLJobs#CareerOpportunities #JobOpportunities About Us We unlock the possibilities of businesses through the power of people, science and technology. We started this industry of people insight more than 40 years ago and continue to lead the market with powerhouse product launches, ground-breaking science and business transformation. When you inspire and transform people’s lives, you will experience the greatest business outcomes possible. SHL’s products insights, experiences, and services can help achieve growth at scale. What SHL Can Offer You Diversity, equity, inclusion and accessibility are key threads in the fabric of SHL’s business and culture (find out more about DEI and accessibility at SHL ) Employee benefits package that takes care of you and your family. Support, coaching, and on-the-job development to achieve career success A fun and flexible workplace where you’ll be inspired to do your best work (find out more LifeAtSHL ) The ability to transform workplaces around the world for others. SHL is an equal opportunity employer. We support and encourage applications from a diverse range of candidates. We can, and do make adjustments to make sure our recruitment process is as inclusive as possible. Show more Show less Seniority level Mid-Senior level Employment type Full-time Job function Engineering and Information Technology Industries Human Resources Services and Business Consulting and Services Referrals increase your chances of interviewing at SHL by 2x See who you know Get notified about new Research Engineer jobs in Gurgaon, Haryana, India. Sign in to create job alert Similar jobs Scientist R&D Scientist R&D MKS Instruments Manesar, Haryana, India 2 weeks ago Research Associate/Scientist Research Associate/Scientist Adobe Noida, Uttar Pradesh, India 1 day ago Hindustan Times - Software Developer - Python Technologies Hindustan Times - Software Developer - Python Technologies Hindustan Times Gurugram, Haryana, India 1 month ago R&D Engr/Scientist II R&D Engr/Scientist II Honeywell Gurgaon, Haryana, India 2 weeks ago ML Engineer ML Engineer IndusInd Bank Gurugram, Haryana, India 2 weeks ago Scientist-Department of Analytics Scientist-Department of Analytics MKS Instruments Manesar, Haryana, India 21 hours ago AI/ML Developer - $250 StartSmart Incentive AI/ML Developer - $250 StartSmart Incentive MKS Instruments Gurgaon, Haryana, India 6 days ago Research Associate Research Associate Adobe Noida, Uttar Pradesh, India 4 days ago Machine Learning Engineer Machine Learning Engineer airtel Gurugram, Haryana, India 6 days ago R&D Engr/Scientist I R&D Engr/Scientist I Honeywell Gurgaon, Haryana, India 1 week ago Research Scientist Research Scientist Adobe Noida, Uttar Pradesh, India 6 days ago Python Developer Python Developer Wipro Digital Operations and Platforms Gurugram, Haryana, India 1 week ago Automotive Research Internship in Chennai, Gurgaon (Hybrid) Automotive Research Internship in Chennai, Gurgaon (Hybrid) CaRPM Gurgaon, Haryana, India 2 weeks ago Advanced Chemical Engineer Advanced Chemical Engineer Honeywell Gurgaon, Haryana, India 2 weeks ago Research Scientist Research Scientist Sprinklr Gurgaon, Haryana, India 5 days ago Automation Consultant Automation Consultant Deloitte Gurugram, Haryana, India 2 weeks ago Scientist in Residence, Amazon Scientist in Residence, Amazon Amazon Gurgaon, Haryana, India 1 day ago Data Scientist Data Scientist IndusInd Bank Gurugram, Haryana, India 2 weeks ago Data Scientist Data Scientist NAB Gurugram, Haryana, India 2 weeks ago Machine Learning Engineer (AI/ML) Machine Learning Engineer (AI/ML) Adobe Noida, Uttar Pradesh, India 1 week ago Scientist in Residence, Amazon Scientist in Residence, Amazon Amazon Delhi, Delhi, India 1 day ago R&D Engineer- Specialty Chemicals R&D Engineer- Specialty Chemicals MKS Instruments Manesar, Haryana, India 2 weeks ago Scientist in Residence, Amazon Scientist in Residence, Amazon Amazon Gurugram, Haryana, India 1 day ago Data Scientist Data Scientist EXL Gurugram, Haryana, India 1 week ago Scientist in Residence, Amazon Scientist in Residence, Amazon Amazon Faridabad, Haryana, India 1 day ago Data Scientist Data Scientist PepsiCo Gurugram, Haryana, India 2 weeks ago Data Scientist Data Scientist NAB Gurugram, Haryana, India 2 weeks ago Show more jobs like this Show fewer jobs like this People also viewed Downstream Data Scientist - Relocate to Saudi Arabia, Permanent Expat Family Relocation Package Downstream Data Scientist - Relocate to Saudi Arabia, Permanent Expat Family Relocation Package aramco Delhi, India 1 week ago Research Scientist Research Scientist Adobe Noida, Uttar Pradesh, India 2 weeks ago Data Scientist Data Scientist EXL Gurugram, Haryana, India 1 week ago Data Scientist (Pricing Strategy) Data Scientist (Pricing Strategy) Klook Gurugram, Haryana, India 2 weeks ago Computer Scientist-I (C++) Computer Scientist-I (C++) Adobe Noida, Uttar Pradesh, India 1 week ago Computer Scientist-I (C++) Computer Scientist-I (C++) Adobe Noida, Uttar Pradesh, India 2 weeks ago Data Scientist Data Scientist Havells India Ltd Noida, Uttar Pradesh, India 2 weeks ago R&D Engineering, Engineer R&D Engineering, Engineer Synopsys Inc Noida, Uttar Pradesh, India 1 week ago Data Scientist Data Scientist HCLTech Noida, Uttar Pradesh, India 4 weeks ago Research Scientist – Agricultural Statistics & Modeling Research Scientist – Agricultural Statistics & Modeling Varaha Gurugram, Haryana, India 3 weeks ago Similar Searches Senior Research Engineer jobs 7,258 open jobs Chemistry Physics Teacher jobs 59 open jobs Standards Engineer jobs 3,822 open jobs Optimization Engineer jobs 930 open jobs Research And Development Engineer jobs 50,115 open jobs Wireless System Engineer jobs 1,079 open jobs Academic Researcher jobs 240 open jobs Senior Simulation Engineer jobs 148 open jobs Bioinformatics Engineer jobs 50,395 open jobs Medical Engineer jobs 547 open jobs Sub Engineer jobs 597 open jobs Embedded System Developer jobs 872 open jobs Innovation Engineer jobs 2,053 open jobs Algorithm Developer jobs 171 open jobs Senior Materials Engineer jobs 364 open jobs Materials Engineer jobs 1,143 open jobs Biological Science Technician jobs 108 open jobs Modeling Engineer jobs 45,992 open jobs Senior Metallurgist jobs 52 open jobs Laboratory Engineer jobs 3,594 open jobs Plant Process Engineer jobs 278 open jobs Pavement Engineer jobs 628 open jobs Simulation Engineer jobs 1,487 open jobs Lead Researcher jobs 480 open jobs Postdoctoral Researcher jobs 79 open jobs Show more Show less Explore collaborative articles We’re unlocking community knowledge in a new way. Experts add insights directly into each article, started with the help of AI. Explore More More searches More searches Senior Research Engineer jobs Chemistry Physics Teacher jobs Standards Engineer jobs Optimization Engineer jobs Research And Development Engineer jobs Wireless System Engineer jobs Academic Researcher jobs Senior Simulation Engineer jobs Bioinformatics Engineer jobs Medical Engineer jobs Sub Engineer jobs Embedded System Developer jobs Innovation Engineer jobs Algorithm Developer jobs Senior Materials Engineer jobs Materials Engineer jobs Biological Science Technician jobs Modeling Engineer jobs Senior Metallurgist jobs Laboratory Engineer jobs Plant Process Engineer jobs Pavement Engineer jobs Analysts jobs Simulation Engineer jobs Lead Researcher jobs Postdoctoral Researcher jobs Lecturer in Computer Science jobs Research Professor jobs Materials And Process Engineer jobs Computer Vision Engineer jobs Survey Coordinator jobs Thermal Engineer jobs Acoustic Engineer jobs Assistant Professor of Computer Science jobs Medical Researcher jobs Security Researcher jobs Machine Learning Engineer jobs Signal Processing Engineer jobs Scientific Programmer jobs Researcher jobs Materials Scientist jobs Corrosion Engineer jobs Wireless Engineer jobs Polymer Engineer jobs Algorithm Engineer jobs Computational Scientist jobs Communications System Engineer jobs Professor of Electrical Engineering jobs Chief Scientific Officer jobs Staff Electrical Engineer jobs Device Engineer jobs Mixed Signal Design Engineer jobs Head of Chemistry jobs Antenna Engineer jobs Contract Technical Writer jobs Chemical Engineer jobs Research Statistician jobs Robotics Engineer jobs Senior Chemical Engineer jobs Propulsion Engineer jobs LinkedIn © 2025 About Accessibility User Agreement Privacy Policy Cookie Policy Copyright Policy Brand Policy Guest Controls Community Guidelines العربية (Arabic) বাংলা (Bangla) Čeština (Czech) Dansk (Danish) Deutsch (German) Ελληνικά (Greek) English (English) Español (Spanish) فارسی (Persian) Suomi (Finnish) Français (French) हिंदी (Hindi) Magyar (Hungarian) Bahasa Indonesia (Indonesian) Italiano (Italian) עברית (Hebrew) 日本語 (Japanese) 한국어 (Korean) मराठी (Marathi) Bahasa Malaysia (Malay) Nederlands (Dutch) Norsk (Norwegian) ਪੰਜਾਬੀ (Punjabi) Polski (Polish) Português (Portuguese) Română (Romanian) Русский (Russian) Svenska (Swedish) తెలుగు (Telugu) ภาษาไทย (Thai) Tagalog (Tagalog) Türkçe (Turkish) Українська (Ukrainian) Tiếng Việt (Vietnamese) 简体中文 (Chinese (Simplified)) 正體中文 (Chinese (Traditional)) Language Agree & Join LinkedIn By clicking Continue to join or sign in, you agree to LinkedIn’s User Agreement, Privacy Policy, and Cookie Policy. Sign in to see who you already know at SHL Sign in Welcome back Email or phone Password Show Forgot password? Sign in or By clicking Continue to join or sign in, you agree to LinkedIn’s User Agreement, Privacy Policy, and Cookie Policy. New to LinkedIn? Join now or New to LinkedIn? Join now By clicking Continue to join or sign in, you agree to LinkedIn’s User Agreement, Privacy Policy, and Cookie Policy.
Leveraging LLM for improving the Recommendation System (Gemini 1.5 Pro)

pip install google-generativeai


     
huggingface/tokenizers: The current process just got forked, after parallelism has already been used. Disabling parallelism to avoid deadlocks...
To disable this warning, you can either:
	- Avoid using `tokenizers` before the fork if possible
	- Explicitly set the environment variable TOKENIZERS_PARALLELISM=(true | false)
Requirement already satisfied: google-generativeai in ./env/lib/python3.13/site-packages (0.8.4)
Requirement already satisfied: google-ai-generativelanguage==0.6.15 in ./env/lib/python3.13/site-packages (from google-generativeai) (0.6.15)
Requirement already satisfied: google-api-core in ./env/lib/python3.13/site-packages (from google-generativeai) (2.24.2)
Requirement already satisfied: google-api-python-client in ./env/lib/python3.13/site-packages (from google-generativeai) (2.166.0)
Requirement already satisfied: google-auth>=2.15.0 in ./env/lib/python3.13/site-packages (from google-generativeai) (2.38.0)
Requirement already satisfied: protobuf in ./env/lib/python3.13/site-packages (from google-generativeai) (5.29.4)
Requirement already satisfied: pydantic in ./env/lib/python3.13/site-packages (from google-generativeai) (2.11.2)
Requirement already satisfied: tqdm in ./env/lib/python3.13/site-packages (from google-generativeai) (4.67.1)
Requirement already satisfied: typing-extensions in ./env/lib/python3.13/site-packages (from google-generativeai) (4.12.2)
Requirement already satisfied: proto-plus<2.0.0dev,>=1.22.3 in ./env/lib/python3.13/site-packages (from google-ai-generativelanguage==0.6.15->google-generativeai) (1.26.1)
Requirement already satisfied: googleapis-common-protos<2.0.0,>=1.56.2 in ./env/lib/python3.13/site-packages (from google-api-core->google-generativeai) (1.69.2)
Requirement already satisfied: requests<3.0.0,>=2.18.0 in ./env/lib/python3.13/site-packages (from google-api-core->google-generativeai) (2.32.3)
Requirement already satisfied: cachetools<6.0,>=2.0.0 in ./env/lib/python3.13/site-packages (from google-auth>=2.15.0->google-generativeai) (5.5.2)
Requirement already satisfied: pyasn1-modules>=0.2.1 in ./env/lib/python3.13/site-packages (from google-auth>=2.15.0->google-generativeai) (0.4.2)
Requirement already satisfied: rsa<5,>=3.1.4 in ./env/lib/python3.13/site-packages (from google-auth>=2.15.0->google-generativeai) (4.9)
Requirement already satisfied: httplib2<1.0.0,>=0.19.0 in ./env/lib/python3.13/site-packages (from google-api-python-client->google-generativeai) (0.22.0)
Requirement already satisfied: google-auth-httplib2<1.0.0,>=0.2.0 in ./env/lib/python3.13/site-packages (from google-api-python-client->google-generativeai) (0.2.0)
Requirement already satisfied: uritemplate<5,>=3.0.1 in ./env/lib/python3.13/site-packages (from google-api-python-client->google-generativeai) (4.1.1)
Requirement already satisfied: annotated-types>=0.6.0 in ./env/lib/python3.13/site-packages (from pydantic->google-generativeai) (0.7.0)
Requirement already satisfied: pydantic-core==2.33.1 in ./env/lib/python3.13/site-packages (from pydantic->google-generativeai) (2.33.1)
Requirement already satisfied: typing-inspection>=0.4.0 in ./env/lib/python3.13/site-packages (from pydantic->google-generativeai) (0.4.0)
Requirement already satisfied: grpcio<2.0dev,>=1.33.2 in ./env/lib/python3.13/site-packages (from google-api-core[grpc]!=2.0.*,!=2.1.*,!=2.10.*,!=2.2.*,!=2.3.*,!=2.4.*,!=2.5.*,!=2.6.*,!=2.7.*,!=2.8.*,!=2.9.*,<3.0.0dev,>=1.34.1->google-ai-generativelanguage==0.6.15->google-generativeai) (1.71.0)
Requirement already satisfied: grpcio-status<2.0.dev0,>=1.33.2 in ./env/lib/python3.13/site-packages (from google-api-core[grpc]!=2.0.*,!=2.1.*,!=2.10.*,!=2.2.*,!=2.3.*,!=2.4.*,!=2.5.*,!=2.6.*,!=2.7.*,!=2.8.*,!=2.9.*,<3.0.0dev,>=1.34.1->google-ai-generativelanguage==0.6.15->google-generativeai) (1.71.0)
Requirement already satisfied: pyparsing!=3.0.0,!=3.0.1,!=3.0.2,!=3.0.3,<4,>=2.4.2 in ./env/lib/python3.13/site-packages (from httplib2<1.0.0,>=0.19.0->google-api-python-client->google-generativeai) (3.2.0)
Requirement already satisfied: pyasn1<0.7.0,>=0.6.1 in ./env/lib/python3.13/site-packages (from pyasn1-modules>=0.2.1->google-auth>=2.15.0->google-generativeai) (0.6.1)
Requirement already satisfied: charset-normalizer<4,>=2 in ./env/lib/python3.13/site-packages (from requests<3.0.0,>=2.18.0->google-api-core->google-generativeai) (3.3.2)
Requirement already satisfied: idna<4,>=2.5 in ./env/lib/python3.13/site-packages (from requests<3.0.0,>=2.18.0->google-api-core->google-generativeai) (3.7)
Requirement already satisfied: urllib3<3,>=1.21.1 in ./env/lib/python3.13/site-packages (from requests<3.0.0,>=2.18.0->google-api-core->google-generativeai) (2.3.0)
Requirement already satisfied: certifi>=2017.4.17 in ./env/lib/python3.13/site-packages (from requests<3.0.0,>=2.18.0->google-api-core->google-generativeai) (2025.1.31)
Note: you may need to restart the kernel to use updated packages.

import os
import google.generativeai as genai

#genai.configure(api_key=GEMINI_API_KEY)


     

model = genai.GenerativeModel("gemini-1.5-pro")


     

import re

def extract_url_from_text(text):
    match = re.search(r'(https?://[^\s,]+)', text)
    if match:
        return match.group(1)
    return None


     
Extracting Relevant Features using LLM

def extract_features_with_llm(user_query):
    prompt = f"""
You are an intelligent assistant helping to recommend SHL assessments.

The input below may be:
1. A natural language query describing assessment needs (e.g., "Need a Python test under 60 minutes").
2. A job description (JD) pasted directly.
3. A job description URL (already converted into text outside this function).
4. A combination of user query + JD.

Your task is to extract and summarize key hiring features from the input. Look for and include the following **if available**:

- Job Title  
- Duration of Test  
- Remote Testing Support (Yes/No)  
- Adaptive/IRT Format (Yes/No)  
- Test Type  
- Skills Required  
- Any other relevant hiring context

Format your response as a **single line** like this:

`<Job Title> <Duration> <Remote Support> <Adaptive> <Test Type> <Skills> <Other Info>`

Skip any fields not mentioned — do not include placeholders or "N/A".

---
Input:
{user_query}

Only return the final, clean sentence — no explanations.
"""

    response = model.generate_content(prompt)
    return response.text.strip()


     

query = "Here is a JD text:https://www.linkedin.com/jobs/view/research-engineer-ai-at-shl-4194768899/?originalSubdomain=in, can you recommend some assessment that can help me screen applications. Time limit is less than 30 minutes."

url = extract_url_from_text(query)
print("Extracted URL -",url)
print("\n")
if url:
    extracted_text = extract_text_from_url(url)
    query += " "+ extracted_text
    user_query = extract_features_with_llm(query)
    print("LLM extracted query - ",user_query)
    print("\n")
    print_assessments(user_query)
    
else:
    print_assessments(query)


     
Extracted URL - https://www.linkedin.com/jobs/view/research-engineer-ai-at-shl-4194768899/?originalSubdomain=in


LLM extracted query -  Research Engineer 30 minutes  AI/ML, NLP, speech processing, computer vision, Python, TensorFlow, PyTorch, OpenAI APIs, deep learning, statistical modeling, Generative AI, LLM, RAG


Top 5 Matching Assessments:

Assessment: Entry-Level Developer Screening #23
Skills: Python
Test Type: Coding
Description: JavaScript
Remote Testing Support: Yes
Adaptive/IRT: No
Duration: 30 mins
URL: https://shl.com/assessment/23
Score: 0.363
--------------------------------------------------
Assessment: Junior Developer Aptitude #34
Skills: Python
Test Type: Coding
Description: JavaScript
Remote Testing Support: Yes
Adaptive/IRT: No
Duration: 35 mins
URL: https://shl.com/assessment/34
Score: 0.333
--------------------------------------------------
Assessment: Mid-Level Developer Evaluation #20
Skills: Python
Test Type: Coding
Description: JavaScript
Remote Testing Support: Yes
Adaptive/IRT: Yes
Duration: 55 mins
URL: https://shl.com/assessment/20
Score: 0.3277
--------------------------------------------------
Assessment: Python Backend Developer Assessment #17
Skills: Python
Test Type: Coding
Description: Problem Solving
Remote Testing Support: Yes
Adaptive/IRT: Yes
Duration: 60 mins
URL: https://shl.com/assessment/17
Score: 0.3127
--------------------------------------------------
Assessment: Comprehensive Developer Test #50
Skills: Python
Test Type: Coding
Description: JavaScript
Remote Testing Support: Yes
Adaptive/IRT: Yes
Duration: 60 mins
URL: https://shl.com/assessment/50
Score: 0.3114
--------------------------------------------------
Handling all 3 input cases using LLM
NLP Query
URL
JD Text

def query_handling_using_LLM(query):
    url = extract_url_from_text(query)
    if url:
        extracted_text = extract_text_from_url(url)
        query += " " + extracted_text
        user_query = extract_features_with_llm(query)
        print("LLM extracted query - ",user_query)
        print("\n")
        print_assessments(user_query)
    else:
        user_query = extract_features_with_llm(query)
        print_assessments(user_query)


     

user_query = input("Enter your query:")
query_handling_using_LLM(user_query)


     
Top 5 Matching Assessments:

Assessment: Backend Developer Challenge #29
Skills: Python
Test Type: Coding
Description: SQL
Remote Testing Support: Yes
Adaptive/IRT: Yes
Duration: 60 mins
URL: https://shl.com/assessment/29
Score: 0.6574
--------------------------------------------------
Assessment: SQL & Reporting Challenge #18
Skills: SQL
Test Type: Coding
Description: Python
Remote Testing Support: Yes
Adaptive/IRT: No
Duration: 40 mins
URL: https://shl.com/assessment/18
Score: 0.5945
--------------------------------------------------
Assessment: Python & SQL Challenge #4
Skills: Python
Test Type: Coding
Description: SQL
Remote Testing Support: Yes
Adaptive/IRT: Yes
Duration: 60 mins
URL: https://shl.com/assessment/4
Score: 0.5937
--------------------------------------------------
Assessment: Python Backend Developer Assessment #17
Skills: Python
Test Type: Coding
Description: Problem Solving
Remote Testing Support: Yes
Adaptive/IRT: Yes
Duration: 60 mins
URL: https://shl.com/assessment/17
Score: 0.5518
--------------------------------------------------
Assessment: Cross-functional Assessment #41
Skills: SQL
Test Type: Cognitive
Description: Python
Remote Testing Support: Yes
Adaptive/IRT: No
Duration: 50 mins
URL: https://shl.com/assessment/41
Score: 0.5321
--------------------------------------------------

user_query = input("Enter your query:")
query_handling_using_LLM(user_query)


     
Top 5 Matching Assessments:

Assessment: Java Developer Assessment #1
Skills: Java
Test Type: Coding
Description: The 'Java Developer Assessment #1' is a Coding test focused on Java. Duration is 40 mins. It supports remote testing: Yes and adaptive format: No.
Remote Testing Support: Yes
Adaptive/IRT: No
Duration: 40 mins
URL: https://shl.com/assessment/1
Score: 0.6367
--------------------------------------------------
Assessment: Java Coding Drill #47
Skills: Java
Test Type: Coding
Description: The 'Java Coding Drill #47' is a Coding test focused on Java. Duration is 40 mins. It supports remote testing: Yes and adaptive format: No.
Remote Testing Support: Yes
Adaptive/IRT: No
Duration: 40 mins
URL: https://shl.com/assessment/47
Score: 0.5564
--------------------------------------------------
Assessment: Quick Java Screening #27
Skills: Java
Test Type: Coding
Description: The 'Quick Java Screening #27' is a Coding test focused on Java. Duration is 30 mins. It supports remote testing: Yes and adaptive format: No.
Remote Testing Support: Yes
Adaptive/IRT: No
Duration: 30 mins
URL: https://shl.com/assessment/27
Score: 0.5396
--------------------------------------------------
Assessment: Collaboration Skills Evaluation #28
Skills: Teamwork
Test Type: Communication
Description: The 'Collaboration Skills Evaluation #28' is a Communication test focused on Teamwork. Duration is 35 mins. It supports remote testing: No and adaptive format: Yes.
Remote Testing Support: No
Adaptive/IRT: Yes
Duration: 35 mins
URL: https://shl.com/assessment/28
Score: 0.4771
--------------------------------------------------
Assessment: Developer Collaboration Skills Test #14
Skills: Teamwork
Test Type: Communication
Description: Communication
Remote Testing Support: Yes
Adaptive/IRT: Yes
Duration: 40 mins
URL: https://shl.com/assessment/14
Score: 0.4528
--------------------------------------------------
Upgrading our Recommendation System using LLMs
Now our recommendation system got better after using LLM as it -
Extracts relevant features from NLP Query, JD Text, JD URL + NLP Query or just JD URL
Adds them in a single string and it is converted into word embeddings using Sentence Transformer
Cosine Similarity is calculated and top 10 relevant assessments are recommended
Those assessments are then further cross checked by LLM after understanding the meaning of NLP query and only those which are relevant to the recruiter will be shown otherwise a message is shown as well.
Due to only 50 entries in the Mock Dataset a few queries return no relevant assessments found but after getting full access to SHL website it can be unbeatable.

def filter_relevant_assessments_with_llm(user_query, top_results):
    prompt = f"""
You are helping to refine assessment recommendations based on user needs.

A user has entered the following query:
"{user_query}"

You are given 10 or less assessments retrieved using semantic similarity. 
Your task is to go through each assessment and determine if it truly matches the user’s intent, based on the following:
- Duration match (e.g., if the user wants "< 40 mins", exclude longer ones)
- Skills match (e.g., user wants "Python" but test is on "Excel", reject it)
- Remote support, Adaptive format, Test type, or any clearly stated requirement
- Ignore irrelevant matches, even if score is high

Return only the assessments that are **highly relevant** to the query. 
Use your understanding of language and hiring to filter smartly. But you have to return something atleast 1 assessment.
You have to return minimum 1 assessment and maximum 10(only relevant ones). You cannot return empty json.

Respond in clean JSON format:
[
  {{
    "Assessment Name": "...",
    "Skills": "...",
    "Test Type": "...",
    "Description": "...",
    "Remote Testing Support": "...",
    "Adaptive/IRT": "...",
    "Duration": "... mins",
    "URL": "...",
    "Score": ...
  }},
  ...
]

---
Assessments:
{top_results}
"""

    response = model.generate_content(prompt)
    return response.text.strip()


     

import json

def convert_numpy(obj):
    if isinstance(obj, (np.integer, np.int64)):
        return int(obj)
    elif isinstance(obj, (np.floating, np.float64)):
        return float(obj)
    elif isinstance(obj, (np.ndarray,)):
        return obj.tolist()
    else:
        raise TypeError(f"Object of type {type(obj)} is not JSON serializable")
        
def query_handling_using_LLM_updated(query):
    url = extract_url_from_text(query)

    if url:
        extracted_text = extract_text_from_url(url)
        query += " " + extracted_text

    # Step 1: Use LLM to extract structured query
    user_query = extract_features_with_llm(query)
    print("LLM extracted query -", user_query)
    print("\n")

    # Step 2: Get top 10 similar assessments unless k is given
    top_results = find_assessments(user_query,k=10)

    # Step 3: Convert list of dicts to JSON string for Gemini
    top_json = json.dumps(top_results, indent=2, default=convert_numpy)

    # Step 4: Get LLM-filtered relevant assessments
    filtered_output = filter_relevant_assessments_with_llm(user_query, top_json)

    # Step 5: Parse LLM response safely
    try:
        filtered_results = json.loads(filtered_output)
    except json.JSONDecodeError:
        print("Gemini returned invalid JSON. Raw output below:\n")
        print(filtered_output)
        return

    # Step 6: Show results
    if not filtered_results:
        print("No recommendations found based on your query.")
    else:
        for result in filtered_results:
            print(f"Assessment: {result['Assessment Name']}")
            print(f"Skills: {result['Skills']}")
            print(f"Test Type: {result['Test Type']}")
            print(f"Description: {result['Description']}")
            print(f"Remote Testing Support: {result['Remote Testing Support']}")
            print(f"Adaptive/IRT: {result['Adaptive/IRT']}")
            print(f"Duration: {result['Duration']} mins")
            print(f"URL: {result['URL']}")
            print(f"Score: {result['Score']}")
            print("-" * 50)


     

user_query = input("Enter your query: ")
query_handling_using_LLM_updated(user_query)


     
LLM extracted query - Java Developer 40 minutes  Adaptive Java Collaboration with business teams


Gemini returned invalid JSON. Raw output below:

```json
[
  {
    "Assessment Name": "Java Developer Assessment #1",
    "Skills": "Java",
    "Test Type": "Coding",
    "Description": "The 'Java Developer Assessment #1' is a Coding test focused on Java. Duration is 40 mins. It supports remote testing: Yes and adaptive format: No.",
    "Remote Testing Support": "Yes",
    "Adaptive/IRT": "No",
    "Duration": 40,
    "URL": "https://shl.com/assessment/1",
    "Score": 0.5765
  },
  {
    "Assessment Name": "Java Coding Drill #47",
    "Skills": "Java",
    "Test Type": "Coding",
    "Description": "The 'Java Coding Drill #47' is a Coding test focused on Java. Duration is 40 mins. It supports remote testing: Yes and adaptive format: No.",
    "Remote Testing Support": "Yes",
    "Adaptive/IRT": "No",
    "Duration": 40,
    "URL": "https://shl.com/assessment/47",
    "Score": 0.5049
  },
    {
    "Assessment Name": "Quick Java Screening #27",
    "Skills": "Java",
    "Test Type": "Coding",
    "Description": "The 'Quick Java Screening #27' is a Coding test focused on Java. Duration is 30 mins. It supports remote testing: Yes and adaptive format: No.",
    "Remote Testing Support": "Yes",
    "Adaptive/IRT": "No",
    "Duration": 30,
    "URL": "https://shl.com/assessment/27",
    "Score": 0.4794
  }
]
```

user_query = input("Enter your query: ")
query_handling_using_LLM_updated(user_query)


     
LLM extracted query - Analyst 45 mins  Cognitive, Personality


Gemini returned invalid JSON. Raw output below:

```json
[
  {
    "Assessment Name": "Entry-level Analyst Test #42",
    "Skills": "Problem Solving",
    "Test Type": "Cognitive",
    "Description": "SQL",
    "Remote Testing Support": "Yes",
    "Adaptive/IRT": "No",
    "Duration": 30,
    "URL": "https://shl.com/assessment/42",
    "Score": 0.5902
  },
  {
    "Assessment Name": "Personality Insights Assessment #6",
    "Skills": "Teamwork",
    "Test Type": "Personality",
    "Description": "Communication",
    "Remote Testing Support": "Yes",
    "Adaptive/IRT": "No",
    "Duration": 35,
    "URL": "https://shl.com/assessment/6",
    "Score": 0.5512
  },
    {
    "Assessment Name": "Personality Profiler #40",
    "Skills": "Personality",
    "Test Type": "Personality",
    "Description": "The 'Personality Profiler #40' is a Personality test focused on Personality. Duration is 30 mins. It supports remote testing: Yes and adaptive format: Yes.",
    "Remote Testing Support": "Yes",
    "Adaptive/IRT": "Yes",
    "Duration": 30,
    "URL": "https://shl.com/assessment/40",
    "Score": 0.512
  },
  {
    "Assessment Name": "Personality Fit Analysis #15",
    "Skills": "Personality",
    "Test Type": "Personality",
    "Description": "Teamwork",
    "Remote Testing Support": "Yes",
    "Adaptive/IRT": "No",
    "Duration": 30,
    "URL": "https://shl.com/assessment/15",
    "Score": 0.5019
  }
]
```
Handling Edge Cases with LLM as well
Here accoridng to the mock dataset no actual assessment matched the query but still we have to return minimum 1 assessment so the assessments with high cosine similarity scores are returned.


user_query = input("Enter your query: ")
query_handling_using_LLM_updated(user_query)


     
LLM extracted query - Research Engineer 30 minutes  Adaptive Python NLP, Computer Vision, Machine Learning, Deep Learning, Generative AI (LLMs & RAG)


Gemini returned invalid JSON. Raw output below:

```json
[
  {
    "Assessment Name": "Entry-Level Developer Screening #23",
    "Skills": "Python",
    "Test Type": "Coding",
    "Description": "JavaScript",
    "Remote Testing Support": "Yes",
    "Adaptive/IRT": "No",
    "Duration": 30,
    "URL": "https://shl.com/assessment/23",
    "Score": 0.4254
  }
]
```
Comparing the results using simple NLP vs NLP+LLM approach

def k_relevant_assessments_with_llm(user_query, top_results,k):
    prompt = f"""
You are helping to refine assessment recommendations based on user needs.

A user has entered the following query:
"{user_query}"

You are given 10 or less assessments retrieved using semantic similarity. 
Your task is to go through each assessment and determine if it truly matches the user’s intent, based on the following:
- Duration match (e.g., if the user wants "< 40 mins", exclude longer ones)
- Skills match (e.g., user wants "Python" but test is on "Excel", reject it)
- Remote support, Adaptive format, Test type, or any clearly stated requirement
- Ignore irrelevant matches, even if score is high

Return only {k} number of assessments that are **highly relevant** to the query. 
Use your understanding of language and hiring to filter smartly.

Respond in clean JSON format:
[
  {{
    "Assessment Name": "...",
    "Skills": "...",
    "Test Type": "...",
    "Description": "...",
    "Remote Testing Support": "...",
    "Adaptive/IRT": "...",
    "Duration": "... mins",
    "URL": "...",
    "Score": ...
  }},
  ...
]

---
Assessments:
{top_results}
"""

    response = model.generate_content(prompt)
    return response.text.strip()


     

import time  # Make sure this is imported

def compute_metrics_llm(benchmark_queries, k=5, delay=60):
    recall_scores = []
    average_precisions = []
    valid_queries = 0

    for entry in benchmark_queries:
        query = entry["query"]
        relevant_items = entry["relevant"]

        url = extract_url_from_text(query)
        if url:
            extracted_text = extract_text_from_url(url)
            query += " " + extracted_text
            
        user_query = extract_features_with_llm(query)
        top_results = find_assessments(user_query, k=10)
        top_json = json.dumps(top_results, indent=2, default=convert_numpy)

        filtered_output = k_relevant_assessments_with_llm(user_query, top_json, k=k)

        try:
            if filtered_output.startswith("```json"):
                filtered_output = re.sub(r"^```json\s*|\s*```$", "", filtered_output.strip(), flags=re.DOTALL)

            filtered_results = json.loads(filtered_output)
            topk = [res["Assessment Name"] for res in filtered_results if "Assessment Name" in res]

            if not topk:
                raise ValueError("No 'Assessment Name' found in results.")
        except Exception as e:
            print(f"[Warning] Skipping query due to error: {e}\nRaw output: {filtered_output}")
            time.sleep(delay)  # Delay even if there's an error
            continue

        valid_queries += 1

        # Recall@k
        relevant_count = sum(1 for item in topk if item in relevant_items)
        recall = relevant_count / len(relevant_items)
        recall_scores.append(recall)

        # MAP@k
        ap = 0.0
        matched = 0
        for i, item in enumerate(topk):
            if item in relevant_items:
                matched += 1
                precision_at_k = matched / (i + 1)
                ap += precision_at_k
        ap /= min(k, len(relevant_items))
        average_precisions.append(ap)

        time.sleep(delay)  

    if valid_queries == 0:
        print("No valid queries were processed. Please check the LLM outputs or data format.")
        return

    mean_recall = sum(recall_scores) / valid_queries
    mean_ap = sum(average_precisions) / valid_queries

    print(f"LLM Recall@{k}: {mean_recall:.4f}")
    print(f"LLM MAP@{k}: {mean_ap:.4f}")


     

benchmark_queries = [
    {
        "query": "I am hiring for Java developers who can also collaborate effectively with my business teams. Looking for an assessment that can be completed in 40 minutes.",
        "relevant": ["Java Developer Assessment #1","Quick Java Screening #27","Java Coding Drill #47"]
    },
    {
        "query": "Suggest an assessment for a fresher data analyst that includes Python and SQL skills in under 50 minutes.",
        "relevant": ["Data Analyst Screening #3","SQL & Reporting Challenge #18","Cross-functional Assessment #41"]
    },
    {
        "query": "Looking for remote-enabled JavaScript technical assessment. Needs to be adaptive.",
        "relevant": ["JavaScript Screening Test #11"]
    },
    {
        "query": "Want to assess communication and teamwork skills in under 30 minutes.",
        "relevant": ["Communication Skills Test #19","Business Communication Evaluation #8","Communication & Team Fit #24","Interpersonal Skills Assessment #43"]
    },
]
compute_metrics_llm(benchmark_queries, k=5)


     
[Warning] Skipping query due to error: Extra data: line 58 column 1 (char 1896)
Raw output: [
  {
    "Assessment Name": "Java Developer Assessment #1",
    "Skills": "Java",
    "Test Type": "Coding",
    "Description": "The 'Java Developer Assessment #1' is a Coding test focused on Java. Duration is 40 mins. It supports remote testing: Yes and adaptive format: No.",
    "Remote Testing Support": "Yes",
    "Adaptive/IRT": "No",
    "Duration": 40,
    "URL": "https://shl.com/assessment/1",
    "Score": 0.5784
  },
  {
    "Assessment Name": "Java Coding Drill #47",
    "Skills": "Java",
    "Test Type": "Coding",
    "Description": "The 'Java Coding Drill #47' is a Coding test focused on Java. Duration is 40 mins. It supports remote testing: Yes and adaptive format: No.",
    "Remote Testing Support": "Yes",
    "Adaptive/IRT": "No",
    "Duration": 40,
    "URL": "https://shl.com/assessment/47",
    "Score": 0.5119
  },
  {
    "Assessment Name": "Quick Java Screening #27",
    "Skills": "Java",
    "Test Type": "Coding",
    "Description": "The 'Quick Java Screening #27' is a Coding test focused on Java. Duration is 30 mins. It supports remote testing: Yes and adaptive format: No.",
    "Remote Testing Support": "Yes",
    "Adaptive/IRT": "No",
    "Duration": 30,
    "URL": "https://shl.com/assessment/27",
    "Score": 0.4728
  },
  {
    "Assessment Name": "Developer Collaboration Skills Test #14",
    "Skills": "Teamwork",
    "Test Type": "Communication",
    "Description": "Communication",
    "Remote Testing Support": "Yes",
    "Adaptive/IRT": "Yes",
    "Duration": 40,
    "URL": "https://shl.com/assessment/14",
    "Score": 0.4848
  },
    {
    "Assessment Name": "Communication & Team Fit #24",
    "Skills": "Teamwork",
    "Test Type": "Communication",
    "Description": "Communication",
    "Remote Testing Support": "Yes",
    "Adaptive/IRT": "Yes",
    "Duration": 25,
    "URL": "https://shl.com/assessment/24",
    "Score": 0.3727
  }
]
```

**Reasoning for Selection and Rejection:**

* **Selected:** Assessments focused on "Java" and "Teamwork/Communication" skills were prioritized, aligning with the user's query regarding "Java Developer" and "Collaboration with business teams".  Duration was also considered, ensuring it was within the 40-minute limit.
* **Rejected:** Assessments exceeding the 40-minute duration, those focused on "Python" instead of "Java", or lacking relevance to teamwork/communication aspects were excluded.  Even though some assessments might have had a seemingly related description (e.g., "Problem Solving"), if the primary skill or test type didn't align, they were deemed less relevant.  The goal was to find the *best* matches, not just any match.
LLM Recall@5: 1.0000
LLM MAP@5: 1.0000
Upgraded Model using LLMs have a perfect accuracy as Recall@5 = 1.0 and Map@5 = 1.0
Difference between using NLP approach and Hybrid approach(NLP+LLM)
NLP Model - Recall@5 = 0.8542 and MAP@5 = 0.7181
NLP + LLM Model - Recall@5 = 1.0 and MAP@5 = 1.0
